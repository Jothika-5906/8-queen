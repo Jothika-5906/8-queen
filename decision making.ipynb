{
  "nbformat": 4,
  "nbformat_minor": 0,
  "metadata": {
    "colab": {
      "provenance": [],
      "authorship_tag": "ABX9TyNbRgAC2nZ5iV/9GU19ncWp",
      "include_colab_link": true
    },
    "kernelspec": {
      "name": "python3",
      "display_name": "Python 3"
    },
    "language_info": {
      "name": "python"
    }
  },
  "cells": [
    {
      "cell_type": "markdown",
      "metadata": {
        "id": "view-in-github",
        "colab_type": "text"
      },
      "source": [
        "<a href=\"https://colab.research.google.com/github/Jothika-5906/8-queen/blob/main/decision%20making.ipynb\" target=\"_parent\"><img src=\"https://colab.research.google.com/assets/colab-badge.svg\" alt=\"Open In Colab\"/></a>"
      ]
    },
    {
      "cell_type": "code",
      "execution_count": 1,
      "metadata": {
        "colab": {
          "base_uri": "https://localhost:8080/"
        },
        "id": "xg5gUBE0hXxK",
        "outputId": "6a000d0b-0da4-416e-ac56-f682c1a2850d"
      },
      "outputs": [
        {
          "output_type": "stream",
          "name": "stdout",
          "text": [
            "KB: [['~P', 'Q'], ['P'], ['~Q', 'R'], ['~R']]\n",
            "Query: ['R']\n",
            "Not satisfiable.\n"
          ]
        }
      ],
      "source": [
        "def negate(l): return l[1:] if l[0] == '' else '' + l\n",
        "\n",
        "def resolve(c1, c2):\n",
        "    for l in c1:\n",
        "        if negate(l) in c2:\n",
        "            r = list(set(c1 + c2) - {l, negate(l)})\n",
        "            return [r]\n",
        "    return []\n",
        "\n",
        "def resolution(kb, q):\n",
        "    c = kb + [[negate(q[0])]]\n",
        "    while True:\n",
        "        n = []\n",
        "        for i in range(len(c)):\n",
        "            for j in range(i+1, len(c)):\n",
        "                r = resolve(c[i], c[j])\n",
        "                if [] in r: return True\n",
        "                if r and r[0] not in n: n.append(r[0])\n",
        "        if all(x in c for x in n): return False\n",
        "        c += n\n",
        "\n",
        "kb = [[\"~P\", \"Q\"], [\"P\"], [\"~Q\", \"R\"], [\"~R\"]]\n",
        "q = [\"R\"]\n",
        "print(\"KB:\", kb)\n",
        "print(\"Query:\", q)\n",
        "print(\"Satisfiable.\" if resolution(kb, q) else \"Not satisfiable.\")"
      ]
    }
  ]
}